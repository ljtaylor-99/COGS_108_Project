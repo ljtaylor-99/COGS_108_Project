{
 "cells": [
  {
   "cell_type": "markdown",
   "metadata": {},
   "source": [
    "# COGS 108 - Data Checkpoint"
   ]
  },
  {
   "cell_type": "markdown",
   "metadata": {},
   "source": [
    "# Names\n",
    "\n",
    "- Dina Dehaini\n",
    "- Cody Maheu\n",
    "- Ryan Jackson\n",
    "- Lauren Taylor\n",
    "- Andrew Karafilis Tremaine"
   ]
  },
  {
   "cell_type": "markdown",
   "metadata": {},
   "source": [
    "<a id='research_question'></a>\n",
    "# Research Question"
   ]
  },
  {
   "cell_type": "markdown",
   "metadata": {},
   "source": [
    "Can the wealth of a country determine whether their agricultural exports will be used as food (finalized goods for humans) or feed (raw product for consumption by animals to produce other goods)?"
   ]
  },
  {
   "cell_type": "markdown",
   "metadata": {},
   "source": [
    "# Dataset(s)"
   ]
  },
  {
   "cell_type": "markdown",
   "metadata": {},
   "source": [
    "**Dataset Name:** GDP (Current US$) **(GDP)**\n",
    " - **Link to Dataset:** https://data.worldbank.org/indicator/NY.GDP.MKTP.CD?end=2019&name_desc=false&start=1960\n",
    " - **Number of observations:** 265\n",
    " - **Description:** World Bank national accounts data, and OECD National Accounts data files of countries’ GDP.\n",
    "     - **Timeline:** 1960-2019\n",
    "     - Data are in current U.S. dollars\n",
    "\n",
    "**Dataset Name:** Who eats the food we grow? **(FAO)**\n",
    " - **Link to Dataset:** https://www.kaggle.com/dorbicycle/world-foodfeed-production\n",
    " - **Number of observations:** 21,477\n",
    " - **Description:** “The Food and Agriculture Organization of the United Nations provides free access to food and agriculture data for over 245 countries and territories.” (https://www.kaggle.com/dorbicycle/world-foodfeed-production)  The dataset that we are interested in is the Food Balance Sheets. It has the data of a country's food supply during a specified reference period  specifically in our case food/feed.  \n",
    "     - **Timeline:** 1961-2013\n",
    "     - Food - refers to the quantity of the food item available as human food during the reference period.\n",
    "     - Feed - refers to the quantity of the food item available for feeding to the livestock and poultry during the reference period.\n",
    "\n",
    "**Combining Data**\n",
    " - The data will be merged together based on their country code (Area abbreviation in FAO, Country code in GDP). We will examine the data that cannot be merged by hand.\n",
    "\n"
   ]
  },
  {
   "cell_type": "markdown",
   "metadata": {},
   "source": [
    "# Setup"
   ]
  },
  {
   "cell_type": "code",
   "execution_count": 1,
   "metadata": {},
   "outputs": [],
   "source": [
    "import pandas as pd\n",
    "import matplotlib.pyplot as plt\n",
    "import numpy as np\n",
    "import seaborn as sns\n",
    "import scipy.stats as stats\n",
    "\n",
    "# GDP dataset\n",
    "gdp = pd.read_csv(\"GDP.csv\")\n",
    "\n",
    "# GDP per capita dataset\n",
    "gdp_per_capita = pd.read_csv(\"GDP_PER_CAPITA.csv\")\n",
    "\n",
    "# Feed vs Food dataset (it's encoded in CP1252...)\n",
    "fao = pd.read_csv(\"FAO.csv\", encoding=\"latin1\")\n",
    "\n",
    "# All valid ISO-3166 country codes (for cleaning the GDP dataset)\n",
    "with open(\"country_codes.txt\", \"r\") as fh:\n",
    "    country_codes = set(line[:-1] for line in fh)"
   ]
  },
  {
   "cell_type": "markdown",
   "metadata": {},
   "source": [
    "# Data Cleaning"
   ]
  },
  {
   "cell_type": "markdown",
   "metadata": {},
   "source": [
    "Describe your data cleaning steps here.\n",
    "\n",
    "- The dataset has been read in from CSV files into our Dataframe objects for both FAO and GDP.\n",
    "- We removed rows from the GDP dataset with invalid country codes.\n",
    "\n",
    "- We have begun the steps to begin to understand the data and figure out where our data outliers are coming from. (USA skews it heavily.)\n",
    "- The FAO dataset has no NaN values but GDP has NaN values for years where a given country did not exist (and some years past 2013 for unknown reasons). We will need to factor this in when merging the datasets.\n"
   ]
  },
  {
   "cell_type": "code",
   "execution_count": 2,
   "metadata": {},
   "outputs": [
    {
     "data": {
      "text/plain": [
       "Index(['Country Name', 'Country Code', 'Indicator Name', 'Indicator Code',\n",
       "       '1960', '1961', '1962', '1963', '1964', '1965', '1966', '1967', '1968',\n",
       "       '1969', '1970', '1971', '1972', '1973', '1974', '1975', '1976', '1977',\n",
       "       '1978', '1979', '1980', '1981', '1982', '1983', '1984', '1985', '1986',\n",
       "       '1987', '1988', '1989', '1990', '1991', '1992', '1993', '1994', '1995',\n",
       "       '1996', '1997', '1998', '1999', '2000', '2001', '2002', '2003', '2004',\n",
       "       '2005', '2006', '2007', '2008', '2009', '2010', '2011', '2012', '2013',\n",
       "       '2014', '2015', '2016', '2017', '2018', '2019', '2020', 'Unnamed: 65'],\n",
       "      dtype='object')"
      ]
     },
     "execution_count": 2,
     "metadata": {},
     "output_type": "execute_result"
    }
   ],
   "source": [
    "# Dumping the columns for reference\n",
    "gdp.columns"
   ]
  },
  {
   "cell_type": "code",
   "execution_count": 3,
   "metadata": {},
   "outputs": [
    {
     "data": {
      "text/plain": [
       "Index(['Country Name', 'Country Code', 'Indicator Name', 'Indicator Code',\n",
       "       '1960', '1961', '1962', '1963', '1964', '1965', '1966', '1967', '1968',\n",
       "       '1969', '1970', '1971', '1972', '1973', '1974', '1975', '1976', '1977',\n",
       "       '1978', '1979', '1980', '1981', '1982', '1983', '1984', '1985', '1986',\n",
       "       '1987', '1988', '1989', '1990', '1991', '1992', '1993', '1994', '1995',\n",
       "       '1996', '1997', '1998', '1999', '2000', '2001', '2002', '2003', '2004',\n",
       "       '2005', '2006', '2007', '2008', '2009', '2010', '2011', '2012', '2013',\n",
       "       '2014', '2015', '2016', '2017', '2018', '2019', '2020', 'Unnamed: 65'],\n",
       "      dtype='object')"
      ]
     },
     "execution_count": 3,
     "metadata": {},
     "output_type": "execute_result"
    }
   ],
   "source": [
    "# Dumping the columns for reference\n",
    "gdp_per_capita.columns"
   ]
  },
  {
   "cell_type": "code",
   "execution_count": 4,
   "metadata": {},
   "outputs": [
    {
     "data": {
      "text/plain": [
       "Index(['Area Abbreviation', 'Area Code', 'Area', 'Item Code', 'Item',\n",
       "       'Element Code', 'Element', 'Unit', 'latitude', 'longitude', 'Y1961',\n",
       "       'Y1962', 'Y1963', 'Y1964', 'Y1965', 'Y1966', 'Y1967', 'Y1968', 'Y1969',\n",
       "       'Y1970', 'Y1971', 'Y1972', 'Y1973', 'Y1974', 'Y1975', 'Y1976', 'Y1977',\n",
       "       'Y1978', 'Y1979', 'Y1980', 'Y1981', 'Y1982', 'Y1983', 'Y1984', 'Y1985',\n",
       "       'Y1986', 'Y1987', 'Y1988', 'Y1989', 'Y1990', 'Y1991', 'Y1992', 'Y1993',\n",
       "       'Y1994', 'Y1995', 'Y1996', 'Y1997', 'Y1998', 'Y1999', 'Y2000', 'Y2001',\n",
       "       'Y2002', 'Y2003', 'Y2004', 'Y2005', 'Y2006', 'Y2007', 'Y2008', 'Y2009',\n",
       "       'Y2010', 'Y2011', 'Y2012', 'Y2013'],\n",
       "      dtype='object')"
      ]
     },
     "execution_count": 4,
     "metadata": {},
     "output_type": "execute_result"
    }
   ],
   "source": [
    "# Dumping the columns for reference\n",
    "fao.columns"
   ]
  },
  {
   "cell_type": "code",
   "execution_count": 5,
   "metadata": {},
   "outputs": [],
   "source": [
    "# Remove any countries from the GDP dataset that aren't in the FAO dataset.\n",
    "# Also ensure they're all valid country codes -- there are several\n",
    "# \"total\" rows that sum together multiple countries in the GDP dataset.\n",
    "fao_countries = set(fao[\"Area Abbreviation\"])\n",
    "valid_countries = fao_countries & country_codes\n",
    "gdp = gdp[[country in valid_countries for country in gdp[\"Country Code\"]]]\n",
    "\n",
    "# Year, Country Code, Tons of Food, Tons of Feed, Real GDP, Real GDP Per Capita\n",
    "data = pd.DataFrame(columns=[\"year\", \"country\", \"food\", \"feed\", \"gdp\", \"gdp_per_capita\"])\n",
    "\n",
    "#for reasons regarding the start and end date, see the EDA section with the plot of countries with feed/food\n",
    "#    data over time.\n",
    "START = 1992\n",
    "END = 2013\n",
    "\n",
    "for year in range(START, END + 1):\n",
    "    # Convert from thousands of tons to tons\n",
    "    food_totals = fao[fao[\"Element\"] == \"Food\"].groupby([\"Area Abbreviation\"])[\"Y%d\" % year].sum() * 1000\n",
    "    feed_totals = fao[fao[\"Element\"] == \"Feed\"].groupby([\"Area Abbreviation\"])[\"Y%d\" % year].sum() * 1000\n",
    "\n",
    "    for _, country in gdp.iterrows():\n",
    "        gdp_for_year = country[str(year)]\n",
    "        food_for_year = food_totals[country[\"Country Code\"]]\n",
    "        per_capita_for_year, = gdp_per_capita[gdp_per_capita[\"Country Code\"] == country[\"Country Code\"]][str(year)]\n",
    "\n",
    "        # Throw out unless we have both GDP data and food export data for the year\n",
    "        # (feed export data can be 0)\n",
    "        if not np.isnan(gdp_for_year) and food_for_year > 0:\n",
    "            data = data.append({\n",
    "                \"year\": year,\n",
    "                \"country\": country[\"Country Code\"],\n",
    "                \"food\": food_for_year,\n",
    "                \"feed\": feed_totals[country[\"Country Code\"]],\n",
    "                \"gdp\": gdp_for_year,\n",
    "                \"gdp_per_capita\": per_capita_for_year\n",
    "            }, ignore_index=True)"
   ]
  },
  {
   "cell_type": "code",
   "execution_count": 6,
   "metadata": {},
   "outputs": [],
   "source": [
    "# Dictionary to convert from country codes to full name\n",
    "country_names = dict(zip(gdp[\"Country Code\"], gdp[\"Country Name\"]))"
   ]
  },
  {
   "cell_type": "markdown",
   "metadata": {},
   "source": [
    "# Data Analysis & Results (EDA)"
   ]
  },
  {
   "cell_type": "code",
   "execution_count": 7,
   "metadata": {},
   "outputs": [],
   "source": [
    "latest = data[data[\"year\"] == 2013]"
   ]
  },
  {
   "cell_type": "code",
   "execution_count": 8,
   "metadata": {},
   "outputs": [],
   "source": [
    "# Show the top and bottom 10 countries by GDP in 2013.\n",
    "out = latest.sort_values(\"gdp\", ascending=False)\n",
    "out[\"country\"] = out[\"country\"].apply(lambda x: country_names[x])"
   ]
  },
  {
   "cell_type": "code",
   "execution_count": 9,
   "metadata": {},
   "outputs": [
    {
     "data": {
      "text/html": [
       "<div>\n",
       "<style scoped>\n",
       "    .dataframe tbody tr th:only-of-type {\n",
       "        vertical-align: middle;\n",
       "    }\n",
       "\n",
       "    .dataframe tbody tr th {\n",
       "        vertical-align: top;\n",
       "    }\n",
       "\n",
       "    .dataframe thead th {\n",
       "        text-align: right;\n",
       "    }\n",
       "</style>\n",
       "<table border=\"1\" class=\"dataframe\">\n",
       "  <thead>\n",
       "    <tr style=\"text-align: right;\">\n",
       "      <th></th>\n",
       "      <th>year</th>\n",
       "      <th>country</th>\n",
       "      <th>food</th>\n",
       "      <th>feed</th>\n",
       "      <th>gdp</th>\n",
       "      <th>gdp_per_capita</th>\n",
       "    </tr>\n",
       "  </thead>\n",
       "  <tbody>\n",
       "    <tr>\n",
       "      <th>3530</th>\n",
       "      <td>2013</td>\n",
       "      <td>United States</td>\n",
       "      <td>6.417760e+08</td>\n",
       "      <td>296863000.0</td>\n",
       "      <td>1.678485e+13</td>\n",
       "      <td>53117.667850</td>\n",
       "    </tr>\n",
       "    <tr>\n",
       "      <th>3402</th>\n",
       "      <td>2013</td>\n",
       "      <td>China</td>\n",
       "      <td>2.541768e+09</td>\n",
       "      <td>702607000.0</td>\n",
       "      <td>9.570406e+12</td>\n",
       "      <td>7050.646271</td>\n",
       "    </tr>\n",
       "    <tr>\n",
       "      <th>3451</th>\n",
       "      <td>2013</td>\n",
       "      <td>Japan</td>\n",
       "      <td>1.531610e+08</td>\n",
       "      <td>34952000.0</td>\n",
       "      <td>5.155717e+12</td>\n",
       "      <td>40454.447458</td>\n",
       "    </tr>\n",
       "    <tr>\n",
       "      <th>3412</th>\n",
       "      <td>2013</td>\n",
       "      <td>Germany</td>\n",
       "      <td>1.584730e+08</td>\n",
       "      <td>60418000.0</td>\n",
       "      <td>3.732743e+12</td>\n",
       "      <td>46285.764069</td>\n",
       "    </tr>\n",
       "    <tr>\n",
       "      <th>3425</th>\n",
       "      <td>2013</td>\n",
       "      <td>France</td>\n",
       "      <td>1.205420e+08</td>\n",
       "      <td>45537000.0</td>\n",
       "      <td>2.811078e+12</td>\n",
       "      <td>42592.934094</td>\n",
       "    </tr>\n",
       "    <tr>\n",
       "      <th>3427</th>\n",
       "      <td>2013</td>\n",
       "      <td>United Kingdom</td>\n",
       "      <td>1.229460e+08</td>\n",
       "      <td>27033000.0</td>\n",
       "      <td>2.786023e+12</td>\n",
       "      <td>43444.533002</td>\n",
       "    </tr>\n",
       "    <tr>\n",
       "      <th>3394</th>\n",
       "      <td>2013</td>\n",
       "      <td>Brazil</td>\n",
       "      <td>3.124880e+08</td>\n",
       "      <td>127479000.0</td>\n",
       "      <td>2.472807e+12</td>\n",
       "      <td>12300.324882</td>\n",
       "    </tr>\n",
       "    <tr>\n",
       "      <th>3502</th>\n",
       "      <td>2013</td>\n",
       "      <td>Russian Federation</td>\n",
       "      <td>2.538920e+08</td>\n",
       "      <td>117021000.0</td>\n",
       "      <td>2.292473e+12</td>\n",
       "      <td>15974.644627</td>\n",
       "    </tr>\n",
       "    <tr>\n",
       "      <th>3448</th>\n",
       "      <td>2013</td>\n",
       "      <td>Italy</td>\n",
       "      <td>1.211630e+08</td>\n",
       "      <td>32287000.0</td>\n",
       "      <td>2.141315e+12</td>\n",
       "      <td>35549.974697</td>\n",
       "    </tr>\n",
       "    <tr>\n",
       "      <th>3442</th>\n",
       "      <td>2013</td>\n",
       "      <td>India</td>\n",
       "      <td>1.238335e+09</td>\n",
       "      <td>98258000.0</td>\n",
       "      <td>1.856722e+12</td>\n",
       "      <td>1449.605912</td>\n",
       "    </tr>\n",
       "  </tbody>\n",
       "</table>\n",
       "</div>"
      ],
      "text/plain": [
       "      year             country          food         feed           gdp  \\\n",
       "3530  2013       United States  6.417760e+08  296863000.0  1.678485e+13   \n",
       "3402  2013               China  2.541768e+09  702607000.0  9.570406e+12   \n",
       "3451  2013               Japan  1.531610e+08   34952000.0  5.155717e+12   \n",
       "3412  2013             Germany  1.584730e+08   60418000.0  3.732743e+12   \n",
       "3425  2013              France  1.205420e+08   45537000.0  2.811078e+12   \n",
       "3427  2013      United Kingdom  1.229460e+08   27033000.0  2.786023e+12   \n",
       "3394  2013              Brazil  3.124880e+08  127479000.0  2.472807e+12   \n",
       "3502  2013  Russian Federation  2.538920e+08  117021000.0  2.292473e+12   \n",
       "3448  2013               Italy  1.211630e+08   32287000.0  2.141315e+12   \n",
       "3442  2013               India  1.238335e+09   98258000.0  1.856722e+12   \n",
       "\n",
       "      gdp_per_capita  \n",
       "3530    53117.667850  \n",
       "3402     7050.646271  \n",
       "3451    40454.447458  \n",
       "3412    46285.764069  \n",
       "3425    42592.934094  \n",
       "3427    43444.533002  \n",
       "3394    12300.324882  \n",
       "3502    15974.644627  \n",
       "3448    35549.974697  \n",
       "3442     1449.605912  "
      ]
     },
     "execution_count": 9,
     "metadata": {},
     "output_type": "execute_result"
    }
   ],
   "source": [
    "out.head(n=10)"
   ]
  },
  {
   "cell_type": "code",
   "execution_count": 10,
   "metadata": {
    "scrolled": false
   },
   "outputs": [
    {
     "data": {
      "text/html": [
       "<div>\n",
       "<style scoped>\n",
       "    .dataframe tbody tr th:only-of-type {\n",
       "        vertical-align: middle;\n",
       "    }\n",
       "\n",
       "    .dataframe tbody tr th {\n",
       "        vertical-align: top;\n",
       "    }\n",
       "\n",
       "    .dataframe thead th {\n",
       "        text-align: right;\n",
       "    }\n",
       "</style>\n",
       "<table border=\"1\" class=\"dataframe\">\n",
       "  <thead>\n",
       "    <tr style=\"text-align: right;\">\n",
       "      <th></th>\n",
       "      <th>year</th>\n",
       "      <th>country</th>\n",
       "      <th>food</th>\n",
       "      <th>feed</th>\n",
       "      <th>gdp</th>\n",
       "      <th>gdp_per_capita</th>\n",
       "    </tr>\n",
       "  </thead>\n",
       "  <tbody>\n",
       "    <tr>\n",
       "      <th>3380</th>\n",
       "      <td>2013</td>\n",
       "      <td>Antigua and Barbuda</td>\n",
       "      <td>119000.0</td>\n",
       "      <td>0.0</td>\n",
       "      <td>1.181448e+09</td>\n",
       "      <td>12909.744178</td>\n",
       "    </tr>\n",
       "    <tr>\n",
       "      <th>3432</th>\n",
       "      <td>2013</td>\n",
       "      <td>Guinea-Bissau</td>\n",
       "      <td>1220000.0</td>\n",
       "      <td>10000.0</td>\n",
       "      <td>1.046087e+09</td>\n",
       "      <td>634.662809</td>\n",
       "    </tr>\n",
       "    <tr>\n",
       "      <th>3434</th>\n",
       "      <td>2013</td>\n",
       "      <td>Grenada</td>\n",
       "      <td>122000.0</td>\n",
       "      <td>28000.0</td>\n",
       "      <td>8.426201e+08</td>\n",
       "      <td>7789.776381</td>\n",
       "    </tr>\n",
       "    <tr>\n",
       "      <th>3457</th>\n",
       "      <td>2013</td>\n",
       "      <td>St. Kitts and Nevis</td>\n",
       "      <td>56000.0</td>\n",
       "      <td>0.0</td>\n",
       "      <td>8.397741e+08</td>\n",
       "      <td>16686.021183</td>\n",
       "    </tr>\n",
       "    <tr>\n",
       "      <th>3535</th>\n",
       "      <td>2013</td>\n",
       "      <td>Vanuatu</td>\n",
       "      <td>370000.0</td>\n",
       "      <td>12000.0</td>\n",
       "      <td>8.017876e+08</td>\n",
       "      <td>3124.233078</td>\n",
       "    </tr>\n",
       "    <tr>\n",
       "      <th>3536</th>\n",
       "      <td>2013</td>\n",
       "      <td>Samoa</td>\n",
       "      <td>329000.0</td>\n",
       "      <td>8000.0</td>\n",
       "      <td>7.700217e+08</td>\n",
       "      <td>4037.509315</td>\n",
       "    </tr>\n",
       "    <tr>\n",
       "      <th>3532</th>\n",
       "      <td>2013</td>\n",
       "      <td>St. Vincent and the Grenadines</td>\n",
       "      <td>158000.0</td>\n",
       "      <td>63000.0</td>\n",
       "      <td>7.212074e+08</td>\n",
       "      <td>6639.607146</td>\n",
       "    </tr>\n",
       "    <tr>\n",
       "      <th>3414</th>\n",
       "      <td>2013</td>\n",
       "      <td>Dominica</td>\n",
       "      <td>138000.0</td>\n",
       "      <td>41000.0</td>\n",
       "      <td>4.982963e+08</td>\n",
       "      <td>7016.676471</td>\n",
       "    </tr>\n",
       "    <tr>\n",
       "      <th>3511</th>\n",
       "      <td>2013</td>\n",
       "      <td>Sao Tome and Principe</td>\n",
       "      <td>251000.0</td>\n",
       "      <td>0.0</td>\n",
       "      <td>3.005538e+08</td>\n",
       "      <td>1564.675304</td>\n",
       "    </tr>\n",
       "    <tr>\n",
       "      <th>3456</th>\n",
       "      <td>2013</td>\n",
       "      <td>Kiribati</td>\n",
       "      <td>135000.0</td>\n",
       "      <td>0.0</td>\n",
       "      <td>1.851139e+08</td>\n",
       "      <td>1715.765331</td>\n",
       "    </tr>\n",
       "  </tbody>\n",
       "</table>\n",
       "</div>"
      ],
      "text/plain": [
       "      year                         country       food     feed           gdp  \\\n",
       "3380  2013             Antigua and Barbuda   119000.0      0.0  1.181448e+09   \n",
       "3432  2013                   Guinea-Bissau  1220000.0  10000.0  1.046087e+09   \n",
       "3434  2013                         Grenada   122000.0  28000.0  8.426201e+08   \n",
       "3457  2013             St. Kitts and Nevis    56000.0      0.0  8.397741e+08   \n",
       "3535  2013                         Vanuatu   370000.0  12000.0  8.017876e+08   \n",
       "3536  2013                           Samoa   329000.0   8000.0  7.700217e+08   \n",
       "3532  2013  St. Vincent and the Grenadines   158000.0  63000.0  7.212074e+08   \n",
       "3414  2013                        Dominica   138000.0  41000.0  4.982963e+08   \n",
       "3511  2013           Sao Tome and Principe   251000.0      0.0  3.005538e+08   \n",
       "3456  2013                        Kiribati   135000.0      0.0  1.851139e+08   \n",
       "\n",
       "      gdp_per_capita  \n",
       "3380    12909.744178  \n",
       "3432      634.662809  \n",
       "3434     7789.776381  \n",
       "3457    16686.021183  \n",
       "3535     3124.233078  \n",
       "3536     4037.509315  \n",
       "3532     6639.607146  \n",
       "3414     7016.676471  \n",
       "3511     1564.675304  \n",
       "3456     1715.765331  "
      ]
     },
     "execution_count": 10,
     "metadata": {},
     "output_type": "execute_result"
    }
   ],
   "source": [
    "out.tail(n=10)"
   ]
  },
  {
   "cell_type": "code",
   "execution_count": 11,
   "metadata": {},
   "outputs": [],
   "source": [
    "# Show the top and bottom 10 countries by food export in 2013.\n",
    "out = latest.sort_values(\"food\", ascending=False)\n",
    "out[\"country\"] = out[\"country\"].apply(lambda x: country_names[x])"
   ]
  },
  {
   "cell_type": "code",
   "execution_count": 12,
   "metadata": {},
   "outputs": [
    {
     "data": {
      "text/html": [
       "<div>\n",
       "<style scoped>\n",
       "    .dataframe tbody tr th:only-of-type {\n",
       "        vertical-align: middle;\n",
       "    }\n",
       "\n",
       "    .dataframe tbody tr th {\n",
       "        vertical-align: top;\n",
       "    }\n",
       "\n",
       "    .dataframe thead th {\n",
       "        text-align: right;\n",
       "    }\n",
       "</style>\n",
       "<table border=\"1\" class=\"dataframe\">\n",
       "  <thead>\n",
       "    <tr style=\"text-align: right;\">\n",
       "      <th></th>\n",
       "      <th>year</th>\n",
       "      <th>country</th>\n",
       "      <th>food</th>\n",
       "      <th>feed</th>\n",
       "      <th>gdp</th>\n",
       "      <th>gdp_per_capita</th>\n",
       "    </tr>\n",
       "  </thead>\n",
       "  <tbody>\n",
       "    <tr>\n",
       "      <th>3402</th>\n",
       "      <td>2013</td>\n",
       "      <td>China</td>\n",
       "      <td>2.541768e+09</td>\n",
       "      <td>702607000.0</td>\n",
       "      <td>9.570406e+12</td>\n",
       "      <td>7050.646271</td>\n",
       "    </tr>\n",
       "    <tr>\n",
       "      <th>3442</th>\n",
       "      <td>2013</td>\n",
       "      <td>India</td>\n",
       "      <td>1.238335e+09</td>\n",
       "      <td>98258000.0</td>\n",
       "      <td>1.856722e+12</td>\n",
       "      <td>1449.605912</td>\n",
       "    </tr>\n",
       "    <tr>\n",
       "      <th>3530</th>\n",
       "      <td>2013</td>\n",
       "      <td>United States</td>\n",
       "      <td>6.417760e+08</td>\n",
       "      <td>296863000.0</td>\n",
       "      <td>1.678485e+13</td>\n",
       "      <td>53117.667850</td>\n",
       "    </tr>\n",
       "    <tr>\n",
       "      <th>3394</th>\n",
       "      <td>2013</td>\n",
       "      <td>Brazil</td>\n",
       "      <td>3.124880e+08</td>\n",
       "      <td>127479000.0</td>\n",
       "      <td>2.472807e+12</td>\n",
       "      <td>12300.324882</td>\n",
       "    </tr>\n",
       "    <tr>\n",
       "      <th>3502</th>\n",
       "      <td>2013</td>\n",
       "      <td>Russian Federation</td>\n",
       "      <td>2.538920e+08</td>\n",
       "      <td>117021000.0</td>\n",
       "      <td>2.292473e+12</td>\n",
       "      <td>15974.644627</td>\n",
       "    </tr>\n",
       "    <tr>\n",
       "      <th>3441</th>\n",
       "      <td>2013</td>\n",
       "      <td>Indonesia</td>\n",
       "      <td>2.378260e+08</td>\n",
       "      <td>19062000.0</td>\n",
       "      <td>9.125241e+11</td>\n",
       "      <td>3623.911582</td>\n",
       "    </tr>\n",
       "    <tr>\n",
       "      <th>3486</th>\n",
       "      <td>2013</td>\n",
       "      <td>Nigeria</td>\n",
       "      <td>2.288770e+08</td>\n",
       "      <td>72046000.0</td>\n",
       "      <td>5.086930e+11</td>\n",
       "      <td>2961.550284</td>\n",
       "    </tr>\n",
       "    <tr>\n",
       "      <th>3493</th>\n",
       "      <td>2013</td>\n",
       "      <td>Pakistan</td>\n",
       "      <td>1.809940e+08</td>\n",
       "      <td>9511000.0</td>\n",
       "      <td>2.312186e+11</td>\n",
       "      <td>1208.904310</td>\n",
       "    </tr>\n",
       "    <tr>\n",
       "      <th>3473</th>\n",
       "      <td>2013</td>\n",
       "      <td>Mexico</td>\n",
       "      <td>1.665910e+08</td>\n",
       "      <td>43530000.0</td>\n",
       "      <td>1.274443e+12</td>\n",
       "      <td>10725.183317</td>\n",
       "    </tr>\n",
       "    <tr>\n",
       "      <th>3412</th>\n",
       "      <td>2013</td>\n",
       "      <td>Germany</td>\n",
       "      <td>1.584730e+08</td>\n",
       "      <td>60418000.0</td>\n",
       "      <td>3.732743e+12</td>\n",
       "      <td>46285.764069</td>\n",
       "    </tr>\n",
       "  </tbody>\n",
       "</table>\n",
       "</div>"
      ],
      "text/plain": [
       "      year             country          food         feed           gdp  \\\n",
       "3402  2013               China  2.541768e+09  702607000.0  9.570406e+12   \n",
       "3442  2013               India  1.238335e+09   98258000.0  1.856722e+12   \n",
       "3530  2013       United States  6.417760e+08  296863000.0  1.678485e+13   \n",
       "3394  2013              Brazil  3.124880e+08  127479000.0  2.472807e+12   \n",
       "3502  2013  Russian Federation  2.538920e+08  117021000.0  2.292473e+12   \n",
       "3441  2013           Indonesia  2.378260e+08   19062000.0  9.125241e+11   \n",
       "3486  2013             Nigeria  2.288770e+08   72046000.0  5.086930e+11   \n",
       "3493  2013            Pakistan  1.809940e+08    9511000.0  2.312186e+11   \n",
       "3473  2013              Mexico  1.665910e+08   43530000.0  1.274443e+12   \n",
       "3412  2013             Germany  1.584730e+08   60418000.0  3.732743e+12   \n",
       "\n",
       "      gdp_per_capita  \n",
       "3402     7050.646271  \n",
       "3442     1449.605912  \n",
       "3530    53117.667850  \n",
       "3394    12300.324882  \n",
       "3502    15974.644627  \n",
       "3441     3623.911582  \n",
       "3486     2961.550284  \n",
       "3493     1208.904310  \n",
       "3473    10725.183317  \n",
       "3412    46285.764069  "
      ]
     },
     "execution_count": 12,
     "metadata": {},
     "output_type": "execute_result"
    }
   ],
   "source": [
    "out.head(n=10)"
   ]
  },
  {
   "cell_type": "code",
   "execution_count": 13,
   "metadata": {},
   "outputs": [
    {
     "data": {
      "text/html": [
       "<div>\n",
       "<style scoped>\n",
       "    .dataframe tbody tr th:only-of-type {\n",
       "        vertical-align: middle;\n",
       "    }\n",
       "\n",
       "    .dataframe tbody tr th {\n",
       "        vertical-align: top;\n",
       "    }\n",
       "\n",
       "    .dataframe thead th {\n",
       "        text-align: right;\n",
       "    }\n",
       "</style>\n",
       "<table border=\"1\" class=\"dataframe\">\n",
       "  <thead>\n",
       "    <tr style=\"text-align: right;\">\n",
       "      <th></th>\n",
       "      <th>year</th>\n",
       "      <th>country</th>\n",
       "      <th>food</th>\n",
       "      <th>feed</th>\n",
       "      <th>gdp</th>\n",
       "      <th>gdp_per_capita</th>\n",
       "    </tr>\n",
       "  </thead>\n",
       "  <tbody>\n",
       "    <tr>\n",
       "      <th>3536</th>\n",
       "      <td>2013</td>\n",
       "      <td>Samoa</td>\n",
       "      <td>329000.0</td>\n",
       "      <td>8000.0</td>\n",
       "      <td>7.700217e+08</td>\n",
       "      <td>4037.509315</td>\n",
       "    </tr>\n",
       "    <tr>\n",
       "      <th>3511</th>\n",
       "      <td>2013</td>\n",
       "      <td>Sao Tome and Principe</td>\n",
       "      <td>251000.0</td>\n",
       "      <td>0.0</td>\n",
       "      <td>3.005538e+08</td>\n",
       "      <td>1564.675304</td>\n",
       "    </tr>\n",
       "    <tr>\n",
       "      <th>3463</th>\n",
       "      <td>2013</td>\n",
       "      <td>St. Lucia</td>\n",
       "      <td>216000.0</td>\n",
       "      <td>13000.0</td>\n",
       "      <td>1.664817e+09</td>\n",
       "      <td>9378.562363</td>\n",
       "    </tr>\n",
       "    <tr>\n",
       "      <th>3532</th>\n",
       "      <td>2013</td>\n",
       "      <td>St. Vincent and the Grenadines</td>\n",
       "      <td>158000.0</td>\n",
       "      <td>63000.0</td>\n",
       "      <td>7.212074e+08</td>\n",
       "      <td>6639.607146</td>\n",
       "    </tr>\n",
       "    <tr>\n",
       "      <th>3414</th>\n",
       "      <td>2013</td>\n",
       "      <td>Dominica</td>\n",
       "      <td>138000.0</td>\n",
       "      <td>41000.0</td>\n",
       "      <td>4.982963e+08</td>\n",
       "      <td>7016.676471</td>\n",
       "    </tr>\n",
       "    <tr>\n",
       "      <th>3456</th>\n",
       "      <td>2013</td>\n",
       "      <td>Kiribati</td>\n",
       "      <td>135000.0</td>\n",
       "      <td>0.0</td>\n",
       "      <td>1.851139e+08</td>\n",
       "      <td>1715.765331</td>\n",
       "    </tr>\n",
       "    <tr>\n",
       "      <th>3434</th>\n",
       "      <td>2013</td>\n",
       "      <td>Grenada</td>\n",
       "      <td>122000.0</td>\n",
       "      <td>28000.0</td>\n",
       "      <td>8.426201e+08</td>\n",
       "      <td>7789.776381</td>\n",
       "    </tr>\n",
       "    <tr>\n",
       "      <th>3380</th>\n",
       "      <td>2013</td>\n",
       "      <td>Antigua and Barbuda</td>\n",
       "      <td>119000.0</td>\n",
       "      <td>0.0</td>\n",
       "      <td>1.181448e+09</td>\n",
       "      <td>12909.744178</td>\n",
       "    </tr>\n",
       "    <tr>\n",
       "      <th>3392</th>\n",
       "      <td>2013</td>\n",
       "      <td>Bermuda</td>\n",
       "      <td>103000.0</td>\n",
       "      <td>3000.0</td>\n",
       "      <td>6.465756e+09</td>\n",
       "      <td>99471.638898</td>\n",
       "    </tr>\n",
       "    <tr>\n",
       "      <th>3457</th>\n",
       "      <td>2013</td>\n",
       "      <td>St. Kitts and Nevis</td>\n",
       "      <td>56000.0</td>\n",
       "      <td>0.0</td>\n",
       "      <td>8.397741e+08</td>\n",
       "      <td>16686.021183</td>\n",
       "    </tr>\n",
       "  </tbody>\n",
       "</table>\n",
       "</div>"
      ],
      "text/plain": [
       "      year                         country      food     feed           gdp  \\\n",
       "3536  2013                           Samoa  329000.0   8000.0  7.700217e+08   \n",
       "3511  2013           Sao Tome and Principe  251000.0      0.0  3.005538e+08   \n",
       "3463  2013                       St. Lucia  216000.0  13000.0  1.664817e+09   \n",
       "3532  2013  St. Vincent and the Grenadines  158000.0  63000.0  7.212074e+08   \n",
       "3414  2013                        Dominica  138000.0  41000.0  4.982963e+08   \n",
       "3456  2013                        Kiribati  135000.0      0.0  1.851139e+08   \n",
       "3434  2013                         Grenada  122000.0  28000.0  8.426201e+08   \n",
       "3380  2013             Antigua and Barbuda  119000.0      0.0  1.181448e+09   \n",
       "3392  2013                         Bermuda  103000.0   3000.0  6.465756e+09   \n",
       "3457  2013             St. Kitts and Nevis   56000.0      0.0  8.397741e+08   \n",
       "\n",
       "      gdp_per_capita  \n",
       "3536     4037.509315  \n",
       "3511     1564.675304  \n",
       "3463     9378.562363  \n",
       "3532     6639.607146  \n",
       "3414     7016.676471  \n",
       "3456     1715.765331  \n",
       "3434     7789.776381  \n",
       "3380    12909.744178  \n",
       "3392    99471.638898  \n",
       "3457    16686.021183  "
      ]
     },
     "execution_count": 13,
     "metadata": {},
     "output_type": "execute_result"
    }
   ],
   "source": [
    "out.tail(n=10)"
   ]
  },
  {
   "cell_type": "code",
   "execution_count": 14,
   "metadata": {},
   "outputs": [],
   "source": [
    "# Show the top and bottom 10 countries by feed export in 2013.\n",
    "out = latest.sort_values(\"feed\", ascending=False)\n",
    "out[\"country\"] = out[\"country\"].apply(lambda x: country_names[x])"
   ]
  },
  {
   "cell_type": "code",
   "execution_count": 15,
   "metadata": {},
   "outputs": [
    {
     "data": {
      "text/html": [
       "<div>\n",
       "<style scoped>\n",
       "    .dataframe tbody tr th:only-of-type {\n",
       "        vertical-align: middle;\n",
       "    }\n",
       "\n",
       "    .dataframe tbody tr th {\n",
       "        vertical-align: top;\n",
       "    }\n",
       "\n",
       "    .dataframe thead th {\n",
       "        text-align: right;\n",
       "    }\n",
       "</style>\n",
       "<table border=\"1\" class=\"dataframe\">\n",
       "  <thead>\n",
       "    <tr style=\"text-align: right;\">\n",
       "      <th></th>\n",
       "      <th>year</th>\n",
       "      <th>country</th>\n",
       "      <th>food</th>\n",
       "      <th>feed</th>\n",
       "      <th>gdp</th>\n",
       "      <th>gdp_per_capita</th>\n",
       "    </tr>\n",
       "  </thead>\n",
       "  <tbody>\n",
       "    <tr>\n",
       "      <th>3402</th>\n",
       "      <td>2013</td>\n",
       "      <td>China</td>\n",
       "      <td>2.541768e+09</td>\n",
       "      <td>702607000.0</td>\n",
       "      <td>9.570406e+12</td>\n",
       "      <td>7050.646271</td>\n",
       "    </tr>\n",
       "    <tr>\n",
       "      <th>3530</th>\n",
       "      <td>2013</td>\n",
       "      <td>United States</td>\n",
       "      <td>6.417760e+08</td>\n",
       "      <td>296863000.0</td>\n",
       "      <td>1.678485e+13</td>\n",
       "      <td>53117.667850</td>\n",
       "    </tr>\n",
       "    <tr>\n",
       "      <th>3394</th>\n",
       "      <td>2013</td>\n",
       "      <td>Brazil</td>\n",
       "      <td>3.124880e+08</td>\n",
       "      <td>127479000.0</td>\n",
       "      <td>2.472807e+12</td>\n",
       "      <td>12300.324882</td>\n",
       "    </tr>\n",
       "    <tr>\n",
       "      <th>3502</th>\n",
       "      <td>2013</td>\n",
       "      <td>Russian Federation</td>\n",
       "      <td>2.538920e+08</td>\n",
       "      <td>117021000.0</td>\n",
       "      <td>2.292473e+12</td>\n",
       "      <td>15974.644627</td>\n",
       "    </tr>\n",
       "    <tr>\n",
       "      <th>3442</th>\n",
       "      <td>2013</td>\n",
       "      <td>India</td>\n",
       "      <td>1.238335e+09</td>\n",
       "      <td>98258000.0</td>\n",
       "      <td>1.856722e+12</td>\n",
       "      <td>1449.605912</td>\n",
       "    </tr>\n",
       "    <tr>\n",
       "      <th>3528</th>\n",
       "      <td>2013</td>\n",
       "      <td>Ukraine</td>\n",
       "      <td>7.958000e+07</td>\n",
       "      <td>74170000.0</td>\n",
       "      <td>1.833101e+11</td>\n",
       "      <td>4029.711252</td>\n",
       "    </tr>\n",
       "    <tr>\n",
       "      <th>3486</th>\n",
       "      <td>2013</td>\n",
       "      <td>Nigeria</td>\n",
       "      <td>2.288770e+08</td>\n",
       "      <td>72046000.0</td>\n",
       "      <td>5.086930e+11</td>\n",
       "      <td>2961.550284</td>\n",
       "    </tr>\n",
       "    <tr>\n",
       "      <th>3412</th>\n",
       "      <td>2013</td>\n",
       "      <td>Germany</td>\n",
       "      <td>1.584730e+08</td>\n",
       "      <td>60418000.0</td>\n",
       "      <td>3.732743e+12</td>\n",
       "      <td>46285.764069</td>\n",
       "    </tr>\n",
       "    <tr>\n",
       "      <th>3420</th>\n",
       "      <td>2013</td>\n",
       "      <td>Spain</td>\n",
       "      <td>8.105100e+07</td>\n",
       "      <td>56543000.0</td>\n",
       "      <td>1.354757e+12</td>\n",
       "      <td>29059.547952</td>\n",
       "    </tr>\n",
       "    <tr>\n",
       "      <th>3399</th>\n",
       "      <td>2013</td>\n",
       "      <td>Canada</td>\n",
       "      <td>6.789300e+07</td>\n",
       "      <td>52274000.0</td>\n",
       "      <td>1.847209e+12</td>\n",
       "      <td>52652.593683</td>\n",
       "    </tr>\n",
       "  </tbody>\n",
       "</table>\n",
       "</div>"
      ],
      "text/plain": [
       "      year             country          food         feed           gdp  \\\n",
       "3402  2013               China  2.541768e+09  702607000.0  9.570406e+12   \n",
       "3530  2013       United States  6.417760e+08  296863000.0  1.678485e+13   \n",
       "3394  2013              Brazil  3.124880e+08  127479000.0  2.472807e+12   \n",
       "3502  2013  Russian Federation  2.538920e+08  117021000.0  2.292473e+12   \n",
       "3442  2013               India  1.238335e+09   98258000.0  1.856722e+12   \n",
       "3528  2013             Ukraine  7.958000e+07   74170000.0  1.833101e+11   \n",
       "3486  2013             Nigeria  2.288770e+08   72046000.0  5.086930e+11   \n",
       "3412  2013             Germany  1.584730e+08   60418000.0  3.732743e+12   \n",
       "3420  2013               Spain  8.105100e+07   56543000.0  1.354757e+12   \n",
       "3399  2013              Canada  6.789300e+07   52274000.0  1.847209e+12   \n",
       "\n",
       "      gdp_per_capita  \n",
       "3402     7050.646271  \n",
       "3530    53117.667850  \n",
       "3394    12300.324882  \n",
       "3502    15974.644627  \n",
       "3442     1449.605912  \n",
       "3528     4029.711252  \n",
       "3486     2961.550284  \n",
       "3412    46285.764069  \n",
       "3420    29059.547952  \n",
       "3399    52652.593683  "
      ]
     },
     "execution_count": 15,
     "metadata": {},
     "output_type": "execute_result"
    }
   ],
   "source": [
    "out.head(n=10)"
   ]
  },
  {
   "cell_type": "code",
   "execution_count": 16,
   "metadata": {},
   "outputs": [
    {
     "data": {
      "text/html": [
       "<div>\n",
       "<style scoped>\n",
       "    .dataframe tbody tr th:only-of-type {\n",
       "        vertical-align: middle;\n",
       "    }\n",
       "\n",
       "    .dataframe tbody tr th {\n",
       "        vertical-align: top;\n",
       "    }\n",
       "\n",
       "    .dataframe thead th {\n",
       "        text-align: right;\n",
       "    }\n",
       "</style>\n",
       "<table border=\"1\" class=\"dataframe\">\n",
       "  <thead>\n",
       "    <tr style=\"text-align: right;\">\n",
       "      <th></th>\n",
       "      <th>year</th>\n",
       "      <th>country</th>\n",
       "      <th>food</th>\n",
       "      <th>feed</th>\n",
       "      <th>gdp</th>\n",
       "      <th>gdp_per_capita</th>\n",
       "    </tr>\n",
       "  </thead>\n",
       "  <tbody>\n",
       "    <tr>\n",
       "      <th>3465</th>\n",
       "      <td>2013</td>\n",
       "      <td>Lesotho</td>\n",
       "      <td>1801000.0</td>\n",
       "      <td>2000.0</td>\n",
       "      <td>2.421470e+09</td>\n",
       "      <td>1193.713255</td>\n",
       "    </tr>\n",
       "    <tr>\n",
       "      <th>3398</th>\n",
       "      <td>2013</td>\n",
       "      <td>Central African Republic</td>\n",
       "      <td>4185000.0</td>\n",
       "      <td>2000.0</td>\n",
       "      <td>1.691544e+09</td>\n",
       "      <td>380.298168</td>\n",
       "    </tr>\n",
       "    <tr>\n",
       "      <th>3456</th>\n",
       "      <td>2013</td>\n",
       "      <td>Kiribati</td>\n",
       "      <td>135000.0</td>\n",
       "      <td>0.0</td>\n",
       "      <td>1.851139e+08</td>\n",
       "      <td>1715.765331</td>\n",
       "    </tr>\n",
       "    <tr>\n",
       "      <th>3511</th>\n",
       "      <td>2013</td>\n",
       "      <td>Sao Tome and Principe</td>\n",
       "      <td>251000.0</td>\n",
       "      <td>0.0</td>\n",
       "      <td>3.005538e+08</td>\n",
       "      <td>1564.675304</td>\n",
       "    </tr>\n",
       "    <tr>\n",
       "      <th>3380</th>\n",
       "      <td>2013</td>\n",
       "      <td>Antigua and Barbuda</td>\n",
       "      <td>119000.0</td>\n",
       "      <td>0.0</td>\n",
       "      <td>1.181448e+09</td>\n",
       "      <td>12909.744178</td>\n",
       "    </tr>\n",
       "    <tr>\n",
       "      <th>3472</th>\n",
       "      <td>2013</td>\n",
       "      <td>Maldives</td>\n",
       "      <td>559000.0</td>\n",
       "      <td>0.0</td>\n",
       "      <td>3.295011e+09</td>\n",
       "      <td>7928.457365</td>\n",
       "    </tr>\n",
       "    <tr>\n",
       "      <th>3507</th>\n",
       "      <td>2013</td>\n",
       "      <td>Solomon Islands</td>\n",
       "      <td>727000.0</td>\n",
       "      <td>0.0</td>\n",
       "      <td>1.284699e+09</td>\n",
       "      <td>2248.591321</td>\n",
       "    </tr>\n",
       "    <tr>\n",
       "      <th>3503</th>\n",
       "      <td>2013</td>\n",
       "      <td>Rwanda</td>\n",
       "      <td>18547000.0</td>\n",
       "      <td>0.0</td>\n",
       "      <td>7.819538e+09</td>\n",
       "      <td>723.258313</td>\n",
       "    </tr>\n",
       "    <tr>\n",
       "      <th>3413</th>\n",
       "      <td>2013</td>\n",
       "      <td>Djibouti</td>\n",
       "      <td>791000.0</td>\n",
       "      <td>0.0</td>\n",
       "      <td>2.042817e+09</td>\n",
       "      <td>2312.728803</td>\n",
       "    </tr>\n",
       "    <tr>\n",
       "      <th>3457</th>\n",
       "      <td>2013</td>\n",
       "      <td>St. Kitts and Nevis</td>\n",
       "      <td>56000.0</td>\n",
       "      <td>0.0</td>\n",
       "      <td>8.397741e+08</td>\n",
       "      <td>16686.021183</td>\n",
       "    </tr>\n",
       "  </tbody>\n",
       "</table>\n",
       "</div>"
      ],
      "text/plain": [
       "      year                   country        food    feed           gdp  \\\n",
       "3465  2013                   Lesotho   1801000.0  2000.0  2.421470e+09   \n",
       "3398  2013  Central African Republic   4185000.0  2000.0  1.691544e+09   \n",
       "3456  2013                  Kiribati    135000.0     0.0  1.851139e+08   \n",
       "3511  2013     Sao Tome and Principe    251000.0     0.0  3.005538e+08   \n",
       "3380  2013       Antigua and Barbuda    119000.0     0.0  1.181448e+09   \n",
       "3472  2013                  Maldives    559000.0     0.0  3.295011e+09   \n",
       "3507  2013           Solomon Islands    727000.0     0.0  1.284699e+09   \n",
       "3503  2013                    Rwanda  18547000.0     0.0  7.819538e+09   \n",
       "3413  2013                  Djibouti    791000.0     0.0  2.042817e+09   \n",
       "3457  2013       St. Kitts and Nevis     56000.0     0.0  8.397741e+08   \n",
       "\n",
       "      gdp_per_capita  \n",
       "3465     1193.713255  \n",
       "3398      380.298168  \n",
       "3456     1715.765331  \n",
       "3511     1564.675304  \n",
       "3380    12909.744178  \n",
       "3472     7928.457365  \n",
       "3507     2248.591321  \n",
       "3503      723.258313  \n",
       "3413     2312.728803  \n",
       "3457    16686.021183  "
      ]
     },
     "execution_count": 16,
     "metadata": {},
     "output_type": "execute_result"
    }
   ],
   "source": [
    "out.tail(n=10)"
   ]
  },
  {
   "cell_type": "code",
   "execution_count": 17,
   "metadata": {},
   "outputs": [
    {
     "data": {
      "text/plain": [
       "<AxesSubplot:xlabel='gdp', ylabel='Density'>"
      ]
     },
     "execution_count": 17,
     "metadata": {},
     "output_type": "execute_result"
    },
    {
     "data": {
      "image/png": "[encoded data removed]",
      "text/plain": [
       "<Figure size 432x288 with 2 Axes>"
      ]
     },
     "metadata": {
      "needs_background": "light"
     },
     "output_type": "display_data"
    }
   ],
   "source": [
    "# Normal and log-scale plots of the distribution of GDP\n",
    "# Average is a \"10 figure\" GDP from reading the log plot\n",
    "fig, (normal, log) = plt.subplots(1, 2, constrained_layout=True)\n",
    "\n",
    "sns.kdeplot(latest[\"gdp\"], cut=0, ax=normal)\n",
    "sns.kdeplot(np.log10(latest[\"gdp\"]), ax=log)"
   ]
  },
  {
   "cell_type": "code",
   "execution_count": 18,
   "metadata": {},
   "outputs": [
    {
     "data": {
      "text/plain": [
       "<AxesSubplot:xlabel='gdp_per_capita', ylabel='Density'>"
      ]
     },
     "execution_count": 18,
     "metadata": {},
     "output_type": "execute_result"
    },
    {
     "data": {
      "image/png": "[encoded data removed]",
      "text/plain": [
       "<Figure size 432x288 with 1 Axes>"
      ]
     },
     "metadata": {
      "needs_background": "light"
     },
     "output_type": "display_data"
    }
   ],
   "source": [
    "sns.kdeplot(latest[\"gdp_per_capita\"],cut=0)"
   ]
  },
  {
   "cell_type": "code",
   "execution_count": 19,
   "metadata": {},
   "outputs": [
    {
     "data": {
      "text/plain": [
       "<AxesSubplot:xlabel='food', ylabel='Density'>"
      ]
     },
     "execution_count": 19,
     "metadata": {},
     "output_type": "execute_result"
    },
    {
     "data": {
      "image/png": "[encoded data removed]",
      "text/plain": [
       "<Figure size 432x288 with 2 Axes>"
      ]
     },
     "metadata": {
      "needs_background": "light"
     },
     "output_type": "display_data"
    }
   ],
   "source": [
    "# Log-scale plots of the distribution of total feed exported and total food exported in 2013\n",
    "# Measured in tons\n",
    "fig, (normal, log) = plt.subplots(1, 2, constrained_layout=True)\n",
    "\n",
    "sns.kdeplot(np.log10(latest[latest[\"feed\"] > 0][\"feed\"]), ax=normal)\n",
    "sns.kdeplot(np.log10(latest[\"food\"]), ax=log)"
   ]
  },
  {
   "cell_type": "code",
   "execution_count": 20,
   "metadata": {},
   "outputs": [
    {
     "data": {
      "text/html": [
       "<div>\n",
       "<style scoped>\n",
       "    .dataframe tbody tr th:only-of-type {\n",
       "        vertical-align: middle;\n",
       "    }\n",
       "\n",
       "    .dataframe tbody tr th {\n",
       "        vertical-align: top;\n",
       "    }\n",
       "\n",
       "    .dataframe thead th {\n",
       "        text-align: right;\n",
       "    }\n",
       "</style>\n",
       "<table border=\"1\" class=\"dataframe\">\n",
       "  <thead>\n",
       "    <tr style=\"text-align: right;\">\n",
       "      <th></th>\n",
       "      <th>year</th>\n",
       "      <th>country</th>\n",
       "      <th>food</th>\n",
       "      <th>feed</th>\n",
       "      <th>gdp</th>\n",
       "      <th>gdp_per_capita</th>\n",
       "    </tr>\n",
       "  </thead>\n",
       "  <tbody>\n",
       "    <tr>\n",
       "      <th>3380</th>\n",
       "      <td>2013</td>\n",
       "      <td>Antigua and Barbuda</td>\n",
       "      <td>119000.0</td>\n",
       "      <td>0.0</td>\n",
       "      <td>1.181448e+09</td>\n",
       "      <td>12909.744178</td>\n",
       "    </tr>\n",
       "    <tr>\n",
       "      <th>3413</th>\n",
       "      <td>2013</td>\n",
       "      <td>Djibouti</td>\n",
       "      <td>791000.0</td>\n",
       "      <td>0.0</td>\n",
       "      <td>2.042817e+09</td>\n",
       "      <td>2312.728803</td>\n",
       "    </tr>\n",
       "    <tr>\n",
       "      <th>3456</th>\n",
       "      <td>2013</td>\n",
       "      <td>Kiribati</td>\n",
       "      <td>135000.0</td>\n",
       "      <td>0.0</td>\n",
       "      <td>1.851139e+08</td>\n",
       "      <td>1715.765331</td>\n",
       "    </tr>\n",
       "    <tr>\n",
       "      <th>3457</th>\n",
       "      <td>2013</td>\n",
       "      <td>St. Kitts and Nevis</td>\n",
       "      <td>56000.0</td>\n",
       "      <td>0.0</td>\n",
       "      <td>8.397741e+08</td>\n",
       "      <td>16686.021183</td>\n",
       "    </tr>\n",
       "    <tr>\n",
       "      <th>3472</th>\n",
       "      <td>2013</td>\n",
       "      <td>Maldives</td>\n",
       "      <td>559000.0</td>\n",
       "      <td>0.0</td>\n",
       "      <td>3.295011e+09</td>\n",
       "      <td>7928.457365</td>\n",
       "    </tr>\n",
       "    <tr>\n",
       "      <th>3503</th>\n",
       "      <td>2013</td>\n",
       "      <td>Rwanda</td>\n",
       "      <td>18547000.0</td>\n",
       "      <td>0.0</td>\n",
       "      <td>7.819538e+09</td>\n",
       "      <td>723.258313</td>\n",
       "    </tr>\n",
       "    <tr>\n",
       "      <th>3507</th>\n",
       "      <td>2013</td>\n",
       "      <td>Solomon Islands</td>\n",
       "      <td>727000.0</td>\n",
       "      <td>0.0</td>\n",
       "      <td>1.284699e+09</td>\n",
       "      <td>2248.591321</td>\n",
       "    </tr>\n",
       "    <tr>\n",
       "      <th>3511</th>\n",
       "      <td>2013</td>\n",
       "      <td>Sao Tome and Principe</td>\n",
       "      <td>251000.0</td>\n",
       "      <td>0.0</td>\n",
       "      <td>3.005538e+08</td>\n",
       "      <td>1564.675304</td>\n",
       "    </tr>\n",
       "  </tbody>\n",
       "</table>\n",
       "</div>"
      ],
      "text/plain": [
       "      year                country        food  feed           gdp  \\\n",
       "3380  2013    Antigua and Barbuda    119000.0   0.0  1.181448e+09   \n",
       "3413  2013               Djibouti    791000.0   0.0  2.042817e+09   \n",
       "3456  2013               Kiribati    135000.0   0.0  1.851139e+08   \n",
       "3457  2013    St. Kitts and Nevis     56000.0   0.0  8.397741e+08   \n",
       "3472  2013               Maldives    559000.0   0.0  3.295011e+09   \n",
       "3503  2013                 Rwanda  18547000.0   0.0  7.819538e+09   \n",
       "3507  2013        Solomon Islands    727000.0   0.0  1.284699e+09   \n",
       "3511  2013  Sao Tome and Principe    251000.0   0.0  3.005538e+08   \n",
       "\n",
       "      gdp_per_capita  \n",
       "3380    12909.744178  \n",
       "3413     2312.728803  \n",
       "3456     1715.765331  \n",
       "3457    16686.021183  \n",
       "3472     7928.457365  \n",
       "3503      723.258313  \n",
       "3507     2248.591321  \n",
       "3511     1564.675304  "
      ]
     },
     "execution_count": 20,
     "metadata": {},
     "output_type": "execute_result"
    }
   ],
   "source": [
    "# All countries that exported no feed in 2013\n",
    "out = latest[latest[\"feed\"] <= 0][:]\n",
    "out[\"country\"] = out[\"country\"].apply(lambda x: country_names[x])\n",
    "\n",
    "out"
   ]
  },
  {
   "cell_type": "code",
   "execution_count": 21,
   "metadata": {
    "scrolled": false
   },
   "outputs": [
    {
     "data": {
      "image/png": "[encoded data removed]",
      "text/plain": [
       "<Figure size 432x288 with 1 Axes>"
      ]
     },
     "metadata": {
      "needs_background": "light"
     },
     "output_type": "display_data"
    }
   ],
   "source": [
    "# Number of countries with data present over time\n",
    "food = fao[fao[\"Element\"] == \"Food\"].groupby([\"Area Abbreviation\"]).sum()\n",
    "years = [np.count_nonzero(food[\"Y%d\" % i]) for i in range(1961, END + 1)]\n",
    "\n",
    "sns.lineplot(x=range(1961, END+1), y=years)\n",
    "plt.xlabel(\"Year\")\n",
    "_ = plt.ylabel(\"# Countries\")"
   ]
  },
  {
   "cell_type": "markdown",
   "metadata": {},
   "source": [
    "After the fall of the Soviet Union, many more countries began to share their Feed/Food data. Rather than use the data from before this data and extrapolate the values, we chose to only consider data from 1992-2013. Additional country data was added after 1992 and these countries are removed from the set. "
   ]
  },
  {
   "cell_type": "code",
   "execution_count": 22,
   "metadata": {},
   "outputs": [
    {
     "name": "stdout",
     "output_type": "stream",
     "text": [
      "NormaltestResult(statistic=8.66624439353652, pvalue=0.01312649992848708)\n"
     ]
    },
    {
     "data": {
      "text/plain": [
       "<AxesSubplot:ylabel='Density'>"
      ]
     },
     "execution_count": 22,
     "metadata": {},
     "output_type": "execute_result"
    },
    {
     "data": {
      "image/png": "[encoded data removed]",
      "text/plain": [
       "<Figure size 432x288 with 1 Axes>"
      ]
     },
     "metadata": {
      "needs_background": "light"
     },
     "output_type": "display_data"
    }
   ],
   "source": [
    "percents = latest[\"feed\"] / (latest[\"food\"] + latest[\"feed\"])\n",
    "\n",
    "print(stats.normaltest(percents))\n",
    "sns.kdeplot(percents)"
   ]
  },
  {
   "cell_type": "code",
   "execution_count": 23,
   "metadata": {},
   "outputs": [
    {
     "data": {
      "text/plain": [
       "<AxesSubplot:xlabel='year', ylabel='food'>"
      ]
     },
     "execution_count": 23,
     "metadata": {},
     "output_type": "execute_result"
    },
    {
     "data": {
      "image/png": "[encoded data removed]",
      "text/plain": [
       "<Figure size 432x288 with 1 Axes>"
      ]
     },
     "metadata": {
      "needs_background": "light"
     },
     "output_type": "display_data"
    }
   ],
   "source": [
    "g = data.groupby(\"year\")\n",
    "sns.lineplot(data=g[\"food\"].agg(\"mean\"))\n",
    "sns.lineplot(data=g[\"feed\"].agg(\"mean\"))"
   ]
  },
  {
   "cell_type": "code",
   "execution_count": 31,
   "metadata": {},
   "outputs": [],
   "source": [
    "mean_gdp = data.groupby(\"year\")[\"gdp\"].agg(\"mean\")\n",
    "mean_gdp_per_capita = data.groupby(\"year\")[\"gdp_per_capita\"].agg(\"mean\")\n",
    "mean_ratio = [(year[\"feed\"] / (year[\"food\"] + year[\"feed\"])).agg(\"mean\") for _, year in data.groupby(\"year\")]"
   ]
  },
  {
   "cell_type": "code",
   "execution_count": 30,
   "metadata": {},
   "outputs": [
    {
     "data": {
      "image/png": "[encoded data removed]",
      "text/plain": [
       "<Figure size 432x288 with 1 Axes>"
      ]
     },
     "metadata": {
      "needs_background": "light"
     },
     "output_type": "display_data"
    }
   ],
   "source": [
    "sns.scatterplot(x=mean_gdp, y=mean_ratio)\n",
    "plt.xlabel(\"Mean GDP\")\n",
    "_ = plt.ylabel(\"Mean Feed %\")"
   ]
  },
  {
   "cell_type": "code",
   "execution_count": 32,
   "metadata": {},
   "outputs": [
    {
     "data": {
      "image/png": "[encoded data removed]",
      "text/plain": [
       "<Figure size 432x288 with 1 Axes>"
      ]
     },
     "metadata": {
      "needs_background": "light"
     },
     "output_type": "display_data"
    }
   ],
   "source": [
    "sns.scatterplot(x=mean_gdp_per_capita, y=mean_ratio)\n",
    "plt.xlabel(\"Mean GDP Per Capita\")\n",
    "_ = plt.ylabel(\"Mean Feed %\")"
   ]
  },
  {
   "cell_type": "markdown",
   "metadata": {},
   "source": [
    "After looking at the negative correlation of the data, we can start to see that our initial hypothesis might not be correct. Countries with large GDP's tend to have a lower percentage of feed as an export."
   ]
  },
  {
   "cell_type": "code",
   "execution_count": 36,
   "metadata": {
    "scrolled": true
   },
   "outputs": [
    {
     "name": "stdout",
     "output_type": "stream",
     "text": [
      "R: 0.626845, P-value: 0.001797, Err: 0.000000\n"
     ]
    },
    {
     "data": {
      "image/png": "[encoded data removed]",
      "text/plain": [
       "<Figure size 432x288 with 1 Axes>"
      ]
     },
     "metadata": {
      "needs_background": "light"
     },
     "output_type": "display_data"
    }
   ],
   "source": [
    "slope, intercept, *test_stats = stats.linregress(mean_gdp, mean_ratio)\n",
    "lim = np.array([min(mean_gdp), max(mean_gdp)])\n",
    "\n",
    "sns.scatterplot(x=mean_gdp, y=mean_ratio)\n",
    "sns.lineplot(x=lim, y=slope * lim + intercept)\n",
    "plt.xlabel(\"Mean GDP\")\n",
    "plt.ylabel(\"Mean Feed %\")\n",
    "\n",
    "print(\"R: %f, P-value: %f, Err: %f\" % tuple(test_stats))"
   ]
  },
  {
   "cell_type": "code",
   "execution_count": 37,
   "metadata": {},
   "outputs": [
    {
     "name": "stdout",
     "output_type": "stream",
     "text": [
      "R: 0.707402, P-value: 0.000231, Err: 0.000000\n"
     ]
    },
    {
     "data": {
      "image/png": "[encoded data removed]",
      "text/plain": [
       "<Figure size 432x288 with 1 Axes>"
      ]
     },
     "metadata": {
      "needs_background": "light"
     },
     "output_type": "display_data"
    }
   ],
   "source": [
    "slope, intercept, *test_stats = stats.linregress(mean_gdp_per_capita, mean_ratio)\n",
    "lim = np.array([min(mean_gdp_per_capita), max(mean_gdp_per_capita)])\n",
    "\n",
    "sns.scatterplot(x=mean_gdp_per_capita, y=mean_ratio)\n",
    "sns.lineplot(x=lim, y=slope * lim + intercept)\n",
    "plt.xlabel(\"Mean GDP Per Capita\")\n",
    "plt.ylabel(\"Mean Feed %\")\n",
    "\n",
    "print(\"R: %f, P-value: %f, Err: %f\" % tuple(test_stats))"
   ]
  },
  {
   "cell_type": "code",
   "execution_count": 44,
   "metadata": {},
   "outputs": [
    {
     "data": {
      "text/plain": [
       "<AxesSubplot:>"
      ]
     },
     "execution_count": 44,
     "metadata": {},
     "output_type": "execute_result"
    },
    {
     "data": {
      "image/png": "[encoded data removed]",
      "text/plain": [
       "<Figure size 432x288 with 1 Axes>"
      ]
     },
     "metadata": {
      "needs_background": "light"
     },
     "output_type": "display_data"
    }
   ],
   "source": [
    "rvalues = []\n",
    "\n",
    "for year in range(START, END + 1):\n",
    "    year = data[data[\"year\"] == year]\n",
    "    rvalue = stats.linregress(np.log10(year[\"gdp\"]), year[\"feed\"] / (year[\"feed\"] + year[\"food\"])).rvalue\n",
    "    rvalues.append(rvalue)\n",
    "\n",
    "sns.lineplot(x=range(START, END + 1), y=rvalues)"
   ]
  },
  {
   "cell_type": "markdown",
   "metadata": {},
   "source": [
    "# Project Proposal (updated)"
   ]
  },
  {
   "cell_type": "markdown",
   "metadata": {},
   "source": [
    "| Meeting Date  | Meeting Time| Completed Before Meeting  | Discuss at Meeting |\n",
    "|---|---|---|---|\n",
    "| 2/11  | 4 PM  | Checkpoint 1 Review | Wrangle data |\n",
    "| 2/14  | 2 PM  | EDA stuff | start checkpoint 2 |\n",
    "| 2/17  | 4 PM  | prep checkpoint 2 turnin | turn checkpoint 2 in |\n",
    "| 2/21  | 2 PM  | talk about data analysis | data analysis |\n",
    "| 2/24  | 4 PM  | more data analysis, clean up notebook | review notebook |\n"
   ]
  }
 ],
 "metadata": {
  "kernelspec": {
   "display_name": "Python 3",
   "language": "python",
   "name": "python3"
  },
  "language_info": {
   "codemirror_mode": {
    "name": "ipython",
    "version": 3
   },
   "file_extension": ".py",
   "mimetype": "text/x-python",
   "name": "python",
   "nbconvert_exporter": "python",
   "pygments_lexer": "ipython3",
   "version": "3.9.1"
  }
 },
 "nbformat": 4,
 "nbformat_minor": 2
}
