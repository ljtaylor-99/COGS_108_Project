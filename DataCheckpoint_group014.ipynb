{
 "cells": [
  {
   "cell_type": "markdown",
   "metadata": {},
   "source": [
    "# COGS 108 - Data Checkpoint"
   ]
  },
  {
   "cell_type": "markdown",
   "metadata": {},
   "source": [
    "# Names\n",
    "\n",
    "- Dina Dehaini\n",
    "- Cody Maheu\n",
    "- Ryan Jackson\n",
    "- Lauren Taylor\n",
    "- Andrew Karafilis Tremaine"
   ]
  },
  {
   "cell_type": "markdown",
   "metadata": {},
   "source": [
    "<a id='research_question'></a>\n",
    "# Research Question"
   ]
  },
  {
   "cell_type": "markdown",
   "metadata": {},
   "source": [
    "Can the wealth of a country determine whether their agricultural exports will be used as food (finalized goods for humans) or feed (raw product for consumption by animals to produce other goods)?"
   ]
  },
  {
   "cell_type": "markdown",
   "metadata": {},
   "source": [
    "# Dataset(s)"
   ]
  },
  {
   "cell_type": "markdown",
   "metadata": {},
   "source": [
    "**Dataset Name:** GDP (Current US$) **(GDP)**\n",
    " - **Link to Dataset:** https://data.worldbank.org/indicator/NY.GDP.MKTP.CD?end=2019&name_desc=false&start=1960\n",
    " - **Number of observations:** 265\n",
    " - **Description:** World Bank national accounts data, and OECD National Accounts data files of countries’ GDP.\n",
    "     - **Timeline:** 1960-2019\n",
    "     - Data are in current U.S. dollars\n",
    "\n",
    "**Dataset Name:** Who eats the food we grow? **(FAO)**\n",
    " - **Link to Dataset:** https://www.kaggle.com/dorbicycle/world-foodfeed-production\n",
    " - **Number of observations:** 21,477\n",
    " - **Description:** “The Food and Agriculture Organization of the United Nations provides free access to food and agriculture data for over 245 countries and territories.” (https://www.kaggle.com/dorbicycle/world-foodfeed-production)  The dataset that we are interested in is the Food Balance Sheets. It has the data of a country's food supply during a specified reference period  specifically in our case food/feed.  \n",
    "     - **Timeline:** 1961-2013\n",
    "     - Food - refers to the quantity of the food item available as human food during the reference period.\n",
    "     - Feed - refers to the quantity of the food item available for feeding to the livestock and poultry during the reference period.\n",
    "\n",
    "**Combining Data**\n",
    " - The data will be merged together based on their country code (Area abbreviation in FAO, Country code in GDP). We will examine the data that cannot be merged by hand.\n",
    "\n"
   ]
  },
  {
   "cell_type": "markdown",
   "metadata": {},
   "source": [
    "# Setup"
   ]
  },
  {
   "cell_type": "code",
   "execution_count": 1,
   "metadata": {},
   "outputs": [],
   "source": [
    "import pandas as pd\n",
    "import matplotlib.pyplot as plt\n",
    "import numpy as np\n",
    "import seaborn as sns\n",
    "\n",
    "# GDP dataset\n",
    "gdp = pd.read_csv(\"GDP.csv\")\n",
    "\n",
    "# Feed vs Food dataset (it's encoded in CP1252...)\n",
    "fao = pd.read_csv(\"FAO.csv\", encoding=\"latin1\")\n",
    "\n",
    "# All valid ISO-3166 country codes (for cleaning the GDP dataset)\n",
    "with open(\"country_codes.txt\", \"r\") as fh:\n",
    "    country_codes = set(line[:-1] for line in fh)"
   ]
  },
  {
   "cell_type": "markdown",
   "metadata": {},
   "source": [
    "# Data Cleaning"
   ]
  },
  {
   "cell_type": "markdown",
   "metadata": {},
   "source": [
    "Describe your data cleaning steps here.\n",
    "- The dataset has been read in from CSV files into our Dataframe objects for both FAO and GDP.\n",
    "- We have begun the steps to begin to understand the data and figure out where our data outliers are coming from. (USA skews it heavily)\n",
    "- The FAO dataset has no NAN values but GDP has NAN. We will need to understand where the NAN values are coming from.\n"
   ]
  },
  {
   "cell_type": "code",
   "execution_count": 2,
   "metadata": {},
   "outputs": [
    {
     "data": {
      "text/plain": [
       "Index(['Country Name', 'Country Code', 'Indicator Name', 'Indicator Code',\n",
       "       '1960', '1961', '1962', '1963', '1964', '1965', '1966', '1967', '1968',\n",
       "       '1969', '1970', '1971', '1972', '1973', '1974', '1975', '1976', '1977',\n",
       "       '1978', '1979', '1980', '1981', '1982', '1983', '1984', '1985', '1986',\n",
       "       '1987', '1988', '1989', '1990', '1991', '1992', '1993', '1994', '1995',\n",
       "       '1996', '1997', '1998', '1999', '2000', '2001', '2002', '2003', '2004',\n",
       "       '2005', '2006', '2007', '2008', '2009', '2010', '2011', '2012', '2013',\n",
       "       '2014', '2015', '2016', '2017', '2018', '2019', '2020', 'Unnamed: 65'],\n",
       "      dtype='object')"
      ]
     },
     "execution_count": 2,
     "metadata": {},
     "output_type": "execute_result"
    }
   ],
   "source": [
    "# Dumping the columns for reference\n",
    "gdp.columns"
   ]
  },
  {
   "cell_type": "code",
   "execution_count": 3,
   "metadata": {},
   "outputs": [
    {
     "data": {
      "text/plain": [
       "Index(['Area Abbreviation', 'Area Code', 'Area', 'Item Code', 'Item',\n",
       "       'Element Code', 'Element', 'Unit', 'latitude', 'longitude', 'Y1961',\n",
       "       'Y1962', 'Y1963', 'Y1964', 'Y1965', 'Y1966', 'Y1967', 'Y1968', 'Y1969',\n",
       "       'Y1970', 'Y1971', 'Y1972', 'Y1973', 'Y1974', 'Y1975', 'Y1976', 'Y1977',\n",
       "       'Y1978', 'Y1979', 'Y1980', 'Y1981', 'Y1982', 'Y1983', 'Y1984', 'Y1985',\n",
       "       'Y1986', 'Y1987', 'Y1988', 'Y1989', 'Y1990', 'Y1991', 'Y1992', 'Y1993',\n",
       "       'Y1994', 'Y1995', 'Y1996', 'Y1997', 'Y1998', 'Y1999', 'Y2000', 'Y2001',\n",
       "       'Y2002', 'Y2003', 'Y2004', 'Y2005', 'Y2006', 'Y2007', 'Y2008', 'Y2009',\n",
       "       'Y2010', 'Y2011', 'Y2012', 'Y2013'],\n",
       "      dtype='object')"
      ]
     },
     "execution_count": 3,
     "metadata": {},
     "output_type": "execute_result"
    }
   ],
   "source": [
    "# Dumping the columns for reference\n",
    "fao.columns"
   ]
  },
  {
   "cell_type": "code",
   "execution_count": 4,
   "metadata": {},
   "outputs": [
    {
     "data": {
      "text/html": [
       "<div>\n",
       "<style scoped>\n",
       "    .dataframe tbody tr th:only-of-type {\n",
       "        vertical-align: middle;\n",
       "    }\n",
       "\n",
       "    .dataframe tbody tr th {\n",
       "        vertical-align: top;\n",
       "    }\n",
       "\n",
       "    .dataframe thead th {\n",
       "        text-align: right;\n",
       "    }\n",
       "</style>\n",
       "<table border=\"1\" class=\"dataframe\">\n",
       "  <thead>\n",
       "    <tr style=\"text-align: right;\">\n",
       "      <th></th>\n",
       "      <th>Country Name</th>\n",
       "      <th>2013</th>\n",
       "    </tr>\n",
       "  </thead>\n",
       "  <tbody>\n",
       "    <tr>\n",
       "      <th>249</th>\n",
       "      <td>United States</td>\n",
       "      <td>1.678485e+13</td>\n",
       "    </tr>\n",
       "    <tr>\n",
       "      <th>38</th>\n",
       "      <td>China</td>\n",
       "      <td>9.570406e+12</td>\n",
       "    </tr>\n",
       "    <tr>\n",
       "      <th>117</th>\n",
       "      <td>Japan</td>\n",
       "      <td>5.155717e+12</td>\n",
       "    </tr>\n",
       "    <tr>\n",
       "      <th>53</th>\n",
       "      <td>Germany</td>\n",
       "      <td>3.732743e+12</td>\n",
       "    </tr>\n",
       "    <tr>\n",
       "      <th>75</th>\n",
       "      <td>France</td>\n",
       "      <td>2.811078e+12</td>\n",
       "    </tr>\n",
       "    <tr>\n",
       "      <th>79</th>\n",
       "      <td>United Kingdom</td>\n",
       "      <td>2.786023e+12</td>\n",
       "    </tr>\n",
       "    <tr>\n",
       "      <th>27</th>\n",
       "      <td>Brazil</td>\n",
       "      <td>2.472807e+12</td>\n",
       "    </tr>\n",
       "    <tr>\n",
       "      <th>200</th>\n",
       "      <td>Russian Federation</td>\n",
       "      <td>2.292473e+12</td>\n",
       "    </tr>\n",
       "    <tr>\n",
       "      <th>114</th>\n",
       "      <td>Italy</td>\n",
       "      <td>2.141315e+12</td>\n",
       "    </tr>\n",
       "    <tr>\n",
       "      <th>107</th>\n",
       "      <td>India</td>\n",
       "      <td>1.856722e+12</td>\n",
       "    </tr>\n",
       "  </tbody>\n",
       "</table>\n",
       "</div>"
      ],
      "text/plain": [
       "           Country Name          2013\n",
       "249       United States  1.678485e+13\n",
       "38                China  9.570406e+12\n",
       "117               Japan  5.155717e+12\n",
       "53              Germany  3.732743e+12\n",
       "75               France  2.811078e+12\n",
       "79       United Kingdom  2.786023e+12\n",
       "27               Brazil  2.472807e+12\n",
       "200  Russian Federation  2.292473e+12\n",
       "114               Italy  2.141315e+12\n",
       "107               India  1.856722e+12"
      ]
     },
     "execution_count": 4,
     "metadata": {},
     "output_type": "execute_result"
    }
   ],
   "source": [
    "# Remove any countries from the GDP dataset that isn't a valid country code.\n",
    "# This includes a bunch of \"total\" rows that sum together multiple countries.\n",
    "gdp_countries = set(gdp[\"Country Code\"])\n",
    "valid_countries = gdp_countries & country_codes\n",
    "rows = gdp[[country in valid_countries for country in gdp[\"Country Code\"]]][[\"Country Name\", \"2013\"]]\n",
    "\n",
    "# Show the top 10 countries by GDP in 2013.\n",
    "rows.sort_values(\"2013\", ascending=False).head(n=10)"
   ]
  },
  {
   "cell_type": "code",
   "execution_count": 5,
   "metadata": {},
   "outputs": [
    {
     "data": {
      "text/plain": [
       "min    3.750908e+07\n",
       "max    1.678485e+13\n",
       "Name: 2013, dtype: float64"
      ]
     },
     "execution_count": 5,
     "metadata": {},
     "output_type": "execute_result"
    }
   ],
   "source": [
    "# Largest and smallest GDPs in 2013.\n",
    "rows[\"2013\"].agg([\"min\", \"max\"])"
   ]
  },
  {
   "cell_type": "code",
   "execution_count": 6,
   "metadata": {},
   "outputs": [
    {
     "data": {
      "text/plain": [
       "<AxesSubplot:xlabel='2013', ylabel='Density'>"
      ]
     },
     "execution_count": 6,
     "metadata": {},
     "output_type": "execute_result"
    },
    {
     "data": {
      "image/png": "[encoded data removed]",
      "text/plain": [
       "<Figure size 432x288 with 2 Axes>"
      ]
     },
     "metadata": {
      "needs_background": "light"
     },
     "output_type": "display_data"
    }
   ],
   "source": [
    "# Normal and log-scale plots of the distribution of GDP\n",
    "# Average is a \"10 figure\" GDP from reading the log plot\n",
    "_, (normal, log) = plt.subplots(2)\n",
    "\n",
    "sns.kdeplot(rows[\"2013\"], cut=0, ax=normal)\n",
    "sns.kdeplot(np.log10(rows[\"2013\"]), cut=0, ax=log)"
   ]
  },
  {
   "cell_type": "code",
   "execution_count": 7,
   "metadata": {},
   "outputs": [
    {
     "data": {
      "text/plain": [
       "<AxesSubplot:xlabel='Total', ylabel='Density'>"
      ]
     },
     "execution_count": 7,
     "metadata": {},
     "output_type": "execute_result"
    },
    {
     "data": {
      "image/png": "[encoded data removed]",
      "text/plain": [
       "<Figure size 432x288 with 2 Axes>"
      ]
     },
     "metadata": {
      "needs_background": "light"
     },
     "output_type": "display_data"
    }
   ],
   "source": [
    "# Log-scale plots of the distribution of total feed exported and total food exported in 2013\n",
    "# Measured in tons\n",
    "totals = fao.groupby([\"Area\", \"Element\"])[\"Y2013\"].sum().reset_index(name=\"Total\")\n",
    "totals[\"Total\"] *= 1000\n",
    "\n",
    "_, (feed, food) = plt.subplots(2)\n",
    "sns.kdeplot(np.log10(totals[(totals[\"Element\"] == \"Feed\") & (totals[\"Total\"] > 0)][\"Total\"]), cut=0, ax=feed)\n",
    "sns.kdeplot(np.log10(totals[totals[\"Element\"] == \"Food\"][\"Total\"]), cut=0, ax=food)"
   ]
  },
  {
   "cell_type": "code",
   "execution_count": 8,
   "metadata": {},
   "outputs": [
    {
     "data": {
      "text/html": [
       "<div>\n",
       "<style scoped>\n",
       "    .dataframe tbody tr th:only-of-type {\n",
       "        vertical-align: middle;\n",
       "    }\n",
       "\n",
       "    .dataframe tbody tr th {\n",
       "        vertical-align: top;\n",
       "    }\n",
       "\n",
       "    .dataframe thead th {\n",
       "        text-align: right;\n",
       "    }\n",
       "</style>\n",
       "<table border=\"1\" class=\"dataframe\">\n",
       "  <thead>\n",
       "    <tr style=\"text-align: right;\">\n",
       "      <th></th>\n",
       "      <th>Area</th>\n",
       "      <th>Element</th>\n",
       "      <th>Total</th>\n",
       "    </tr>\n",
       "  </thead>\n",
       "  <tbody>\n",
       "    <tr>\n",
       "      <th>8</th>\n",
       "      <td>Antigua and Barbuda</td>\n",
       "      <td>Feed</td>\n",
       "      <td>0</td>\n",
       "    </tr>\n",
       "    <tr>\n",
       "      <th>66</th>\n",
       "      <td>China, Macao SAR</td>\n",
       "      <td>Feed</td>\n",
       "      <td>0</td>\n",
       "    </tr>\n",
       "    <tr>\n",
       "      <th>92</th>\n",
       "      <td>Djibouti</td>\n",
       "      <td>Feed</td>\n",
       "      <td>0</td>\n",
       "    </tr>\n",
       "    <tr>\n",
       "      <th>170</th>\n",
       "      <td>Kiribati</td>\n",
       "      <td>Feed</td>\n",
       "      <td>0</td>\n",
       "    </tr>\n",
       "    <tr>\n",
       "      <th>196</th>\n",
       "      <td>Maldives</td>\n",
       "      <td>Feed</td>\n",
       "      <td>0</td>\n",
       "    </tr>\n",
       "    <tr>\n",
       "      <th>260</th>\n",
       "      <td>Rwanda</td>\n",
       "      <td>Feed</td>\n",
       "      <td>0</td>\n",
       "    </tr>\n",
       "    <tr>\n",
       "      <th>262</th>\n",
       "      <td>Saint Kitts and Nevis</td>\n",
       "      <td>Feed</td>\n",
       "      <td>0</td>\n",
       "    </tr>\n",
       "    <tr>\n",
       "      <th>270</th>\n",
       "      <td>Sao Tome and Principe</td>\n",
       "      <td>Feed</td>\n",
       "      <td>0</td>\n",
       "    </tr>\n",
       "    <tr>\n",
       "      <th>284</th>\n",
       "      <td>Solomon Islands</td>\n",
       "      <td>Feed</td>\n",
       "      <td>0</td>\n",
       "    </tr>\n",
       "  </tbody>\n",
       "</table>\n",
       "</div>"
      ],
      "text/plain": [
       "                      Area Element  Total\n",
       "8      Antigua and Barbuda    Feed      0\n",
       "66        China, Macao SAR    Feed      0\n",
       "92                Djibouti    Feed      0\n",
       "170               Kiribati    Feed      0\n",
       "196               Maldives    Feed      0\n",
       "260                 Rwanda    Feed      0\n",
       "262  Saint Kitts and Nevis    Feed      0\n",
       "270  Sao Tome and Principe    Feed      0\n",
       "284        Solomon Islands    Feed      0"
      ]
     },
     "execution_count": 8,
     "metadata": {},
     "output_type": "execute_result"
    }
   ],
   "source": [
    "# All countries that exported no feed in 2013\n",
    "totals[totals[\"Total\"] <= 0]"
   ]
  },
  {
   "cell_type": "code",
   "execution_count": 10,
   "metadata": {},
   "outputs": [
    {
     "data": {
      "text/plain": [
       "min            0\n",
       "max    691903000\n",
       "Name: Total, dtype: int64"
      ]
     },
     "execution_count": 10,
     "metadata": {},
     "output_type": "execute_result"
    }
   ],
   "source": [
    "# Largest and smallest feed export in 2013.\n",
    "totals[totals[\"Element\"] == \"Feed\"][\"Total\"].agg([\"min\", \"max\"])"
   ]
  },
  {
   "cell_type": "code",
   "execution_count": 11,
   "metadata": {},
   "outputs": [
    {
     "data": {
      "text/plain": [
       "min         56000\n",
       "max    2499252000\n",
       "Name: Total, dtype: int64"
      ]
     },
     "execution_count": 11,
     "metadata": {},
     "output_type": "execute_result"
    }
   ],
   "source": [
    "# Largest and smallest food export in 2013.\n",
    "totals[totals[\"Element\"] == \"Food\"][\"Total\"].agg([\"min\", \"max\"])"
   ]
  },
  {
   "cell_type": "markdown",
   "metadata": {},
   "source": [
    "# Project Proposal (updated)"
   ]
  },
  {
   "cell_type": "markdown",
   "metadata": {},
   "source": [
    "| Meeting Date  | Meeting Time| Completed Before Meeting  | Discuss at Meeting |\n",
    "|---|---|---|---|\n",
    "| 2/11  | 4 PM  | Checkpoint 1 Review | Wrangle data |\n",
    "| 2/14  | 2 PM  | EDA stuff | start checkpoint 2 |\n",
    "| 2/17  | 4 PM  | prep checkpoint 2 turnin | turn checkpoint 2 in |"
   ]
  }
 ],
 "metadata": {
  "kernelspec": {
   "display_name": "Python 3",
   "language": "python",
   "name": "python3"
  },
  "language_info": {
   "codemirror_mode": {
    "name": "ipython",
    "version": 3
   },
   "file_extension": ".py",
   "mimetype": "text/x-python",
   "name": "python",
   "nbconvert_exporter": "python",
   "pygments_lexer": "ipython3",
   "version": "3.9.1"
  }
 },
 "nbformat": 4,
 "nbformat_minor": 2
}
