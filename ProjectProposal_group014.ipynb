{
 "cells": [
  {
   "cell_type": "markdown",
   "metadata": {},
   "source": [
    "# COGS 108 - Final Project Proposal"
   ]
  },
  {
   "cell_type": "markdown",
   "metadata": {},
   "source": [
    "# Names\n",
    "\n",
    "- Dina Dehaini\n",
    "- Cody Maheu\n",
    "- Ryan Jackson\n",
    "- Lauren Taylor\n",
    "- Andrew Karafilis Tremaine"
   ]
  },
  {
   "cell_type": "markdown",
   "metadata": {},
   "source": [
    "# Research Question\n"
   ]
  },
  {
   "cell_type": "markdown",
   "metadata": {},
   "source": [
    "Can the wealth of a country determine whether their agricultural exports will be used as food or feed?"
   ]
  },
  {
   "cell_type": "markdown",
   "metadata": {},
   "source": [
    "## Background and Prior Work"
   ]
  },
  {
   "cell_type": "markdown",
   "metadata": {},
   "source": [
    "    Today, the United States is the world’s number one food exporter (by dollars). Much of the world’s top exporters are developed countries and produce enough food/feed to export to developing countries. (1) Due to a number of conflicting variables, mostly population growth and pre-existing dependency, developing countries have been heavily reliant on imported foods in order to feed rising populations. (2) Developing countries tend to grow and export products and cash crops, which results in these countries growing less and importing more food crops from more developed countries. (3)\n",
    "\n",
    "    With developing countries becoming more and more reliant on food imports and their populations continuously expanding, many developed countries can expect to continue and increase trends of exporting to poorer countries(1). With expanding populations, developing countries are expected to account for most of the world’s food imports and consumption. For example, with foods such as wheat, “Developing countries are expected to account for 82 percent of the increase in world wheat consumption and 93 percent of the increase in world”(3). Demand side drivers of change are heavily influenced by changing food consumption patterns. (4) The drivers of the food transition process are the same today in developing countries as they were in the past in developed nations because the process is quicker due to growing importance in supermarkets and large-scale food manufacturers.\n",
    "    \n",
    "    Based on this research, we are able to formulate a research question as well as hypothesize about the specific relationship between a country’s GDP and whether their agricultural exports will be used as food or feed. \n",
    "\n",
    "References (include links):\n",
    "- 1)https://news.un.org/en/story/2018/07/1013872\n",
    "- 2)https://www.researchgate.net/publication/227374392_Agricultural_Exports_and_Economic_Growth_in_Developing_Countries_A_Panel_Cointegration_Approach\n",
    "- 3)https://www.ers.usda.gov/amber-waves/2013/august/developing-countries-dominate-world-demand-for-agricultural-products/\n",
    "- 4)https://hal.archives-ouvertes.fr/hal-01210543/document"
   ]
  },
  {
   "cell_type": "markdown",
   "metadata": {},
   "source": [
    "# Hypothesis\n"
   ]
  },
  {
   "cell_type": "markdown",
   "metadata": {},
   "source": [
    "We believe that wealthier countries export more feed than food. From our background research, we think that poorer countries seem to rely more on exporting food and more expensive products since they are generally worth more. "
   ]
  },
  {
   "cell_type": "markdown",
   "metadata": {},
   "source": [
    "# Data"
   ]
  },
  {
   "cell_type": "markdown",
   "metadata": {},
   "source": [
    "The ideal dataset would include the following variables: the country, the exported product, how much, food/feed and gdp of the country, as well as multiple years to track trends. Ideally the data would be collected by the UN, Unicef, or another outside organization. The data would be organized in a table, hopefully csv, or tsv.  "
   ]
  },
  {
   "cell_type": "markdown",
   "metadata": {},
   "source": [
    "# Ethics & Privacy"
   ]
  },
  {
   "cell_type": "markdown",
   "metadata": {},
   "source": [
    "Because the data is not referring to individuals privacy will not likely be a concern. Potential biases could be related to how the collection of the data is done. Richer countries might overrepresent their status in order to position themselves compared to their peers. Likewise, countries under strict governance might also overrepresent themself in order to gain a higher standing in the international community. Detecting this bias might be difficult, since there is no way to know whether or not it is actually happening. We do not think there will be any data privacy issues but there is always the concern of bucketing countries by rich or poor and then making a judgement about the people who live there based off of the bucket their country was placed in."
   ]
  },
  {
   "cell_type": "markdown",
   "metadata": {},
   "source": [
    "# Team Expectations "
   ]
  },
  {
   "cell_type": "markdown",
   "metadata": {},
   "source": [
    "* Communicate  throughout the week via Discord.\n",
    "* Have a meeting 1-2 times a week to discuss progress and to troubleshoot.\n",
    "* Discuss possible issues and confounding variables\n"
   ]
  },
  {
   "cell_type": "markdown",
   "metadata": {},
   "source": [
    "# Project Timeline Proposal"
   ]
  },
  {
   "cell_type": "markdown",
   "metadata": {},
   "source": [
    "| Meeting Date  | Meeting Time| Completed Before Meeting  | Discuss at Meeting |\n",
    "|---|---|---|---|\n",
    "| 1/31  |  2 PM | Complete proposal. Formulate research question. | Find possible data sets. Discuss merits of each. | \n",
    "| 2/4  |  4 PM |  Look at more research | more data searching | \n",
    "| 2/7  | 2 PM  | Data stuff  | Discuss the data   |\n",
    "| 2/11  | 4 PM  | Checkpoint 1 Review | Wrangle data   |\n",
    "| 2/14  | 2 PM  | EDA stuff | start checkpoint 2 |\n",
    "| 2/17  | 4 PM  | prep checkpoint 2 turnin | turn checkpoint 2 in |"
   ]
  }
 ],
 "metadata": {
  "kernelspec": {
   "display_name": "Python 3",
   "language": "python",
   "name": "python3"
  },
  "language_info": {
   "codemirror_mode": {
    "name": "ipython",
    "version": 3
   },
   "file_extension": ".py",
   "mimetype": "text/x-python",
   "name": "python",
   "nbconvert_exporter": "python",
   "pygments_lexer": "ipython3",
   "version": "3.7.9"
  }
 },
 "nbformat": 4,
 "nbformat_minor": 2
}
